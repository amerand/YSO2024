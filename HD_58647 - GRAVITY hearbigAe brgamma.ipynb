{
 "cells": [
  {
   "cell_type": "markdown",
   "id": "41c94cec-f712-44b7-a05b-bc5ccd24b849",
   "metadata": {},
   "source": [
    "# HD 58647 (Herbig Ae): continuum PIONER+GRAVITY,  Br $\\gamma$ emmission\n",
    "\n",
    "- AMBER paper showing [Kurosawa et al. (2016)](https://ui.adsabs.harvard.edu/abs/2016MNRAS.457.2236K/abstract)\n",
    "- PIONIER paper in the continuum [Lazareff et al. (2017)](https://ui.adsabs.harvard.edu/abs/2017A%26A...599A..85L/abstract)\n",
    "- recent GRAVITY paper where Brackett $\\gamma$ has been modeled [Bouarour et al. (2024)](https://arxiv.org/pdf/2312.08819.pdf)"
   ]
  },
  {
   "cell_type": "code",
   "execution_count": 2,
   "id": "2245fead-df39-43b2-aa83-0d5e545f52e7",
   "metadata": {},
   "outputs": [
    {
     "name": "stdout",
     "output_type": "stream",
     "text": [
      "1.2.4\n"
     ]
    }
   ],
   "source": [
    "# pip install ipympl\n",
    "%matplotlib widget \n",
    "import numpy as np\n",
    "import matplotlib.pyplot as plt\n",
    "import os\n",
    "\n",
    "import pmoired\n",
    "print(pmoired.__version__)"
   ]
  },
  {
   "cell_type": "markdown",
   "id": "746e2444-8cdf-4de6-82ff-e930284e562d",
   "metadata": {},
   "source": [
    "# model PIONIER data downloaded from OIDb\n",
    "\n",
    "- all Data with 6 spectral channels (2016, 2019)\n",
    "- data with 3 spectral channels with smallest baselines"
   ]
  },
  {
   "cell_type": "code",
   "execution_count": 3,
   "id": "e8c4b706-73f1-43ab-9f89-b4ba82337a86",
   "metadata": {},
   "outputs": [
    {
     "name": "stdout",
     "output_type": "stream",
     "text": [
      "loadOI: loading ./DATA/PIONI.2016-01-03T05 05 08.570_oidataCalibrated.fits\n",
      "  > insname: \"PIONIER_Pnat(1.5330000/1.7730000)\" targname: \"HD58647\" pipeline: \"pndrs_v3.53\"\n",
      "  > MJD: (1,) [ 57390.21035583429 .. 57390.21035583429 ]\n",
      "  > D0-G2-J3-K0 | WL: (6,) [ 1.533 .. 1.773 ] um (R~34) {'T3': 4, 'VIS': 6, 'VIS2': 6} | TELL: False \n",
      "WARNING: error while reading ESO pipelines parameters\n",
      "loadOI: loading ./DATA/PIONI.2016-01-03T05 29 43.476_oidataCalibrated.fits\n",
      "  > insname: \"PIONIER_Pnat(1.5330000/1.7730000)\" targname: \"HD58647\" pipeline: \"pndrs_v3.53\"\n",
      "  > MJD: (1,) [ 57390.22742455358 .. 57390.22742455358 ]\n",
      "  > D0-G2-J3-K0 | WL: (6,) [ 1.533 .. 1.773 ] um (R~34) {'T3': 4, 'VIS': 6, 'VIS2': 6} | TELL: False \n",
      "WARNING: error while reading ESO pipelines parameters\n",
      "loadOI: loading ./DATA/PIONI.2016-02-17T03 39 37.997_oidataCalibrated.fits\n",
      "  > insname: \"PIONIER_Pnat(1.5181904/1.7625174)\" targname: \"HD58647\" pipeline: \"pndrs_v3.53\"\n",
      "  > MJD: (1,) [ 57435.15096038368 .. 57435.15096038368 ]\n",
      "  > D0-G2-J3-K0 | WL: (6,) [ 1.518 .. 1.763 ] um (R~34) {'T3': 4, 'VIS': 6, 'VIS2': 6} | TELL: False \n",
      "WARNING: error while reading ESO pipelines parameters\n",
      "loadOI: loading ./DATA/PIONI.2016-02-17T04 04 04.775_oidataCalibrated.fits\n",
      "  > insname: \"PIONIER_Pnat(1.5181904/1.7625174)\" targname: \"HD58647\" pipeline: \"pndrs_v3.53\"\n",
      "  > MJD: (1,) [ 57435.167929966956 .. 57435.167929966956 ]\n",
      "  > D0-G2-K0 | WL: (6,) [ 1.518 .. 1.763 ] um (R~34) {'T3': 1, 'VIS': 3, 'VIS2': 3} | TELL: False \n",
      "WARNING: error while reading ESO pipelines parameters\n",
      "loadOI: loading ./DATA/PIONI.2019-01-10T05 35 39.695_oidataCalibrated.fits\n",
      "  > insname: \"PIONIER_Pnat(1.5137921/1.7590035)\" targname: \"HD58647\" pipeline: \"pndrs_v3.82\"\n",
      "  > MJD: (1,) [ 58493.23164193976 .. 58493.23164193976 ]\n",
      "  > A0-G1-J2-K0 | WL: (6,) [ 1.514 .. 1.759 ] um (R~34) {'T3': 4, 'VIS': 6, 'VIS2': 6} | TELL: False \n",
      "WARNING: error while reading ESO pipelines parameters\n",
      "loadOI: loading ./DATA/PIONI.2019-01-10T05 53 23.827_oidataCalibrated.fits\n",
      "  > insname: \"PIONIER_Pnat(1.5137921/1.7590035)\" targname: \"HD58647\" pipeline: \"pndrs_v3.82\"\n",
      "  > MJD: (1,) [ 58493.2439585402 .. 58493.2439585402 ]\n",
      "  > A0-G1-J2-K0 | WL: (6,) [ 1.514 .. 1.759 ] um (R~34) {'T3': 4, 'VIS': 6, 'VIS2': 6} | TELL: False \n",
      "WARNING: error while reading ESO pipelines parameters\n",
      "loadOI: loading ./DATA/PIONI.2019-01-17T06 16 04.230_oidataCalibrated.fits\n",
      "  > insname: \"PIONIER_Pnat(1.5154550/1.7595697)\" targname: \"HD58647\" pipeline: \"pndrs_v3.82\"\n",
      "  > MJD: (1,) [ 58500.260002436735 .. 58500.260002436735 ]\n",
      "  > A0-G1-J2-K0 | WL: (6,) [ 1.515 .. 1.76 ] um (R~34) {'T3': 4, 'VIS': 6, 'VIS2': 6} | TELL: False \n",
      "WARNING: error while reading ESO pipelines parameters\n",
      "loadOI: loading ./DATA/PIONI.2019-01-17T06 31 39.259_oidataCalibrated.fits\n",
      "  > insname: \"PIONIER_Pnat(1.5154550/1.7595697)\" targname: \"HD58647\" pipeline: \"pndrs_v3.82\"\n",
      "  > MJD: (1,) [ 58500.270824592364 .. 58500.270824592364 ]\n",
      "  > A0-G1-J2-K0 | WL: (6,) [ 1.515 .. 1.76 ] um (R~34) {'T3': 4, 'VIS': 6, 'VIS2': 6} | TELL: False \n",
      "WARNING: error while reading ESO pipelines parameters\n",
      "loadOI: loading ./DATA/PIONI.2019-01-18T03 52 47.605_oidataCalibrated.fits\n",
      "  > insname: \"PIONIER_Pnat(1.5131487/1.7575934)\" targname: \"HD58647\" pipeline: \"pndrs_v3.82\"\n",
      "  > MJD: (1,) [ 58501.16020796036 .. 58501.16020796036 ]\n",
      "  > A0-G1-J2-K0 | WL: (6,) [ 1.513 .. 1.758 ] um (R~34) {'T3': 4, 'VIS': 6, 'VIS2': 6} | TELL: False \n",
      "WARNING: error while reading ESO pipelines parameters\n",
      "loadOI: loading ./DATA/PIONI.2019-01-18T04 10 56.688_oidataCalibrated.fits\n",
      "  > insname: \"PIONIER_Pnat(1.5131487/1.7575934)\" targname: \"HD58647\" pipeline: \"pndrs_v3.82\"\n",
      "  > MJD: (1,) [ 58501.172812562305 .. 58501.172812562305 ]\n",
      "  > A0-G1-J2-K0 | WL: (6,) [ 1.513 .. 1.758 ] um (R~34) {'T3': 4, 'VIS': 6, 'VIS2': 6} | TELL: False \n",
      "WARNING: error while reading ESO pipelines parameters\n",
      "loadOI: loading ./DATA/PIONIER.2012-12-19T05 28 06_oidataCalibrated.fits\n",
      "  > insname: \"PIONIER_Pnat(1.5964860/1.7673326)\" targname: \"HD58647\" pipeline: \"\"\n",
      "  > MJD: (1,) [ 56280.22526430391 .. 56280.22526430391 ]\n",
      "  > A1-B2-C1-D0 | WL: (3,) [ 1.596 .. 1.767 ] um (R~18) {'T3': 4, 'VIS': 6, 'VIS2': 6} | TELL: False \n",
      "loadOI: loading ./DATA/PIONIER.2012-12-22T03 35 49_oidataCalibrated.fits\n",
      "  > insname: \"PIONIER_Pnat(1.5857179/1.7569847)\" targname: \"HD58647\" pipeline: \"\"\n",
      "  > MJD: (1,) [ 56283.14728364042 .. 56283.14728364042 ]\n",
      "  > A1-B2-C1-D0 | WL: (3,) [ 1.586 .. 1.757 ] um (R~18) {'T3': 4, 'VIS': 6, 'VIS2': 6} | TELL: False \n"
     ]
    }
   ],
   "source": [
    "oi = pmoired.OI('./DATA/PIO*alibrated.fits')"
   ]
  },
  {
   "cell_type": "markdown",
   "id": "8ddce9fe-9588-4d7b-b774-ed92a8023b7c",
   "metadata": {},
   "source": [
    "## Make a star+rim+disk model \"à la Lazareff\"\n",
    "\n",
    "See [PMOIRED tutorial](https://github.com/amerand/PMOIRED_examples) how to [build such model step by step](https://htmlpreview.github.io/?https://github.com/amerand/PMOIRED_examples/blob/main/html/EX2%20chromatic%20YSO%20disk.html)"
   ]
  },
  {
   "cell_type": "code",
   "execution_count": null,
   "id": "5b2008d4-78aa-486b-ac65-f3267f3db73d",
   "metadata": {},
   "outputs": [
    {
     "name": "stdout",
     "output_type": "stream",
     "text": [
      "[dpfit] 16 FITTED parameters: ['disk,F0', 'disk,PRO', 'disk,SPX', 'disk,az amp1', 'disk,az projang1', 'disk,diamout', 'rim,F0', 'rim,SPX', 'rim,az amp1', 'rim,az amp2', 'rim,az projang1', 'rim,az projang2', 'rim,diamin', 'rim,diamout', 'rim,incl', 'rim,projang']\n",
      "[dpfit] epsfcn= 1e-08 ftol= 1e-05\n",
      "[dpfit] using scipy.optimize.leastsq\n",
      "[dpfit] Mon Jun 10 16:43:12 2024 001/000 CHI2: 5.9520e+01|\n",
      "[dpfit] Mon Jun 10 16:43:22 2024 075/004 CHI2: 1.7332e+00|\n",
      "[dpfit] Mon Jun 10 16:43:32 2024 145/009 CHI2: 1.1292e+00|\n",
      "[dpfit] Mon Jun 10 16:43:42 2024 210/013 CHI2: 1.1066e+00|\n"
     ]
    }
   ],
   "source": [
    "m = {'disk,F0':         0.0313, # +/- 0.0040\n",
    "    'disk,PRO':        0.010, # +/- 0.036\n",
    "    'disk,SPX':        2.09, # +/- 1.21\n",
    "    'disk,az amp1':    0.57, # +/- 0.20\n",
    "    'disk,az projang1':494.5, # +/- 12.0\n",
    "    'disk,diamout':    30.03, # +/- 1.44\n",
    "    'rim,F0':          0.297, # +/- 0.051\n",
    "    'rim,SPX':         1.71, # +/- 0.55\n",
    "    'rim,az amp1':     0.431, # +/- 0.045\n",
    "    'rim,az amp2':     0.166, # +/- 0.085\n",
    "    'rim,az projang1': -270.03, # +/- 1.52\n",
    "    'rim,az projang2': -244.85, # +/- 4.34\n",
    "    'rim,diamin':      1.89, # +/- 0.79\n",
    "    'rim,diamout':     8.93, # +/- 1.00\n",
    "    'rim,incl':        64.89, # +/- 0.89\n",
    "    'rim,projang':     17.31, # +/- 1.41\n",
    "    'disk,diamin':     '$rim,diamout',\n",
    "    'disk,incl':       '$rim,incl',\n",
    "    'disk,profile':    '$R**$disk,PRO',\n",
    "    'disk,projang':    '$rim,projang',\n",
    "    'disk,spectrum':   '$disk,F0*($WL/1.6)**$disk,SPX',\n",
    "    'rim,profile':     'doughnut',\n",
    "    'rim,spectrum':    '$rim,F0*($WL/1.6)**$rim,SPX',\n",
    "    'star,spectrum':   '(1-$rim,F0-$disk,F0)*($WL/1.6)**-3.8',\n",
    "    'star,ud':         0,\n",
    "    }\n",
    "\n",
    "# -- for the flux of the outer disk to decrease radially\n",
    "prior = [('disk,PRO', '<=', 0)]\n",
    "\n",
    "oi.setupFit({'obs':['T3PHI', 'V2'], \n",
    "              'max error':{'T3PHI':10} # remove a point with very large uncertainties\n",
    "             })\n",
    "# -- we do not fit the star as it is unresolved\n",
    "oi.doFit(m, doNotFit=['star,ud'], prior=prior)\n",
    "oi.show(imFov=14, imMax='99', imPow=0.5, imPlx=3.2831, logS=True)"
   ]
  },
  {
   "cell_type": "markdown",
   "id": "930aee55-08b9-4bb8-bd86-1b5a83d64b35",
   "metadata": {},
   "source": [
    "## Add GRAVITY Data and fit continuum\n",
    "Here the data are binned because we are just interested at the continuum. Data are public (but not the reduced one)"
   ]
  },
  {
   "cell_type": "code",
   "execution_count": null,
   "id": "63ba0241-aa87-4879-876d-372fa0f1aeaf",
   "metadata": {},
   "outputs": [],
   "source": [
    "oi.addData('./DATA/GRA*viscalibrated.fits', insname=\"GRAVITY_SC\", binning=100)\n",
    "# -- setup fit for GRAVITY only\n",
    "oi.setupFit({'obs':['|V|', 'T3PHI']}, insname='GRAVITY_SC')\n",
    "# -- show data with previoud model(fitted only to PIONIER data) \n",
    "oi.show(imFov=14, imMax='99', imPow=0.5, imWl0=[1.65, 2.2], imPlx=3.2831, logS=True)"
   ]
  },
  {
   "cell_type": "code",
   "execution_count": null,
   "id": "3fb00b80-7f15-451c-95ee-ee5ed688cbc8",
   "metadata": {},
   "outputs": [],
   "source": [
    "# -- fit all continuum data (PIONIER+GRAVITY)\n",
    "oi.doFit(doNotFit=['star,ud'], prior=prior)\n",
    "oi.show(imFov=14, imMax='99', imPow=0.5, imWl0=[1.65, 2.2], imPlx=3.2831, logS=True)"
   ]
  },
  {
   "cell_type": "markdown",
   "id": "041046f2-9c02-4726-9324-db8c8e0ef99b",
   "metadata": {},
   "source": [
    "# Br $\\gamma$ emmission in GRAVITY data"
   ]
  },
  {
   "cell_type": "markdown",
   "id": "48f141b0-4c53-453a-8c9d-efc1dc06976a",
   "metadata": {},
   "source": [
    "## First remove tellurics so we can use the spectrum as well\n",
    "\n",
    "Interferometric quantities are not affected by the tellurics.\n",
    "\n",
    "This takes quite some time, even if it is parallelised!"
   ]
  },
  {
   "cell_type": "code",
   "execution_count": null,
   "id": "7dda8763-8026-4a6c-bc9a-a4e8b9b099eb",
   "metadata": {},
   "outputs": [],
   "source": [
    "from multiprocessing import Pool\n",
    "from pmoired import tellcorr\n",
    "files = sorted([os.path.join('./DATA', f) for f in filter(lambda f: f.startswith('G') and f.endswith('fits'), os.listdir('./DATA'))])\n",
    "\n",
    "#with Pool() as p:\n",
    "#    p.map(tellcorr.removeTellurics, files)\n",
    "\n",
    "with Pool() as p:\n",
    "    p.map(tellcorr.gravity, files)\n",
    "    \n",
    "tellcorr.showTellurics(files[0])"
   ]
  },
  {
   "cell_type": "markdown",
   "id": "2f7752a8-ca4a-49ba-be4e-c3dc9692349c",
   "metadata": {},
   "source": [
    "## re-load GRAVITY data only, in full spectral resolution, with correction from tellurics"
   ]
  },
  {
   "cell_type": "code",
   "execution_count": null,
   "id": "58acb56a-8cd0-4208-a150-2373f441431a",
   "metadata": {},
   "outputs": [],
   "source": [
    "oi = pmoired.OI('./DATA/G*viscalibrated.fits', insname=\"GRAVITY_SC\")\n",
    "oi.fig = 100 # offset figure counter so we keep previous figures in the notebook"
   ]
  },
  {
   "cell_type": "code",
   "execution_count": null,
   "id": "ccbe2e69-4e68-41c8-9bdb-f5bf39338270",
   "metadata": {},
   "outputs": [],
   "source": [
    "# -- check data around Br gamma\n",
    "oi.setupFit({'obs':['T3PHI', 'DPHI', 'NFLUX', '|V|'],\n",
    "             'wl ranges':[(2.1661-0.005, 2.1661+0.005)],\n",
    "            })\n",
    "oi.show()\n",
    "plt.figure(oi.fig-1).set_figheight(12)"
   ]
  },
  {
   "cell_type": "markdown",
   "id": "7b89a6ba-e3a5-4674-9a7c-1cd80fa08643",
   "metadata": {},
   "source": [
    "## Add to the continnum model 2 blobs in emission around Brackett $\\gamma$ "
   ]
  },
  {
   "cell_type": "code",
   "execution_count": null,
   "id": "47d2b72a-5e0a-43de-8026-77851abcc24c",
   "metadata": {},
   "outputs": [],
   "source": [
    "# -- continuum model from above\n",
    "m = {'disk,F0':         0.0203, # +/- 0.0022\n",
    "    'disk,PRO':        0.311, # +/- 0.070\n",
    "    'disk,SPX':        3.07, # +/- 0.40\n",
    "    'disk,az amp1':    0.36, # +/- 0.15\n",
    "    'disk,az projang1':463.7, # +/- 23.4\n",
    "    'disk,diamout':    40.21, # +/- 0.93\n",
    "    'rim,F0':          0.2693, # +/- 0.0085\n",
    "    'rim,SPX':         1.06, # +/- 0.17\n",
    "    'rim,az amp1':     0.341, # +/- 0.030\n",
    "    'rim,az amp2':     0.241, # +/- 0.061\n",
    "    'rim,az projang1': -269.95, # +/- 1.88\n",
    "    'rim,az projang2': -246.50, # +/- 5.29\n",
    "    'rim,diamin':      0.00, # +/- 0.98\n",
    "    'rim,diamout':     7.53, # +/- 0.14\n",
    "    'rim,incl':        66.90, # +/- 0.94\n",
    "    'rim,projang':     17.38, # +/- 0.71\n",
    "    'disk,diamin':     '$rim,diamout',\n",
    "    'disk,incl':       '$rim,incl',\n",
    "    'disk,profile':    '$R**$disk,PRO',\n",
    "    'disk,projang':    '$rim,projang',\n",
    "    'disk,spectrum':   '$disk,F0*($WL/1.6)**$disk,SPX',\n",
    "    'rim,profile':     'doughnut',\n",
    "    'rim,spectrum':    '$rim,F0*($WL/1.6)**$rim,SPX',\n",
    "    'star,spectrum':   '(1-$rim,F0-$disk,F0)*($WL/1.6)**-3.8',\n",
    "    'star,ud':         0,\n",
    "    }\n",
    "\n",
    "oi.setupFit({'obs':['N|V|', \n",
    "                    #'T3PHI', \n",
    "                    'DPHI', \n",
    "                    'NFLUX'\n",
    "                   ],\n",
    "             'min relative error':{'NFLUX':0.02, 'N|V|':0.01},\n",
    "             'min error':{'DPHI':1, 'T3PHI':2},\n",
    "             'wl ranges':[(2.1661-0.005, 2.1661+0.005)],\n",
    "            })\n",
    "\n",
    "m.update({# -- blob1 size in mas\n",
    "        'blob1,fwhm': 1,\n",
    "        # -- continuum flux\n",
    "        'blob1,f': 0.0, \n",
    "        # -- central wavelength, in um\n",
    "        'blob1,line_0_wl0': '2.16+$blob1,DWL0/1000',\n",
    "        'blob1,DWL0': 5.6,\n",
    "        # -- gaussian line, FWHM in nm (not um!)\n",
    "        'blob1,line_0_gaussian': 0.7,\n",
    "        # -- line amplitude\n",
    "        'blob1,line_0_f': 0.2,\n",
    "        # -- blob position in mas\n",
    "        'blob1,x': 0,\n",
    "        'blob1,y': -1,\n",
    "        # -- same for blob 2:\n",
    "        'blob2,fwhm': 1,\n",
    "        'blob2,f': 0.0,\n",
    "        'blob2,line_0_wl0': '2.16+$blob2,DWL0/1000',\n",
    "        'blob2,DWL0': 6.9,         \n",
    "        'blob2,line_0_gaussian': 0.7,\n",
    "        'blob2,line_0_f': 0.2,\n",
    "        'blob2,x': 0,\n",
    "        'blob2,y': 1,\n",
    "         })\n",
    "\n",
    "onlyShow = True\n",
    "\n",
    "if onlyShow:\n",
    "    # -- show model \n",
    "    oi.show(m, imFov=14, imMax='99', imPow=0.5, imWl0=[2.16, 2.1655, 2.16685], imPlx=3.2831)\n",
    "    plt.figure(oi.fig-2).set_figheight(12)\n",
    "else:\n",
    "    # -- only fit blobs' parameters\n",
    "    fitOnly = list(filter(lambda k: k.startswith('blob') and type(m[k])!=str and k.split(',')[1]!='f', m.keys()))\n",
    "    # -- limit width of lines\n",
    "    prior = [('blob1,fwhm', '>', 0.2),   \n",
    "             ('blob1,fwhm', '<', 1.5),\n",
    "             ('blob2,fwhm', '>', 0.2),\n",
    "             ('blob2,fwhm', '<', 1.5),        \n",
    "            ]    \n",
    "    oi.doFit(m, fitOnly=fitOnly, prior=prior)\n",
    "    oi.show(imFov=10, imMax='99', imPow=0.5, imWl0=[2.16, 2.1655, 2.16685], imPlx=3.2831)\n",
    "    plt.figure(oi.fig-2).set_figheight(12)\n"
   ]
  },
  {
   "cell_type": "markdown",
   "id": "772b6c2b-5799-484a-820c-f725a4b56e25",
   "metadata": {},
   "source": [
    "## Add Keplerian disk to the continuum model\n",
    "\n",
    "For a full intro to the Keplerian disk, check out [PMOIRED example](https://github.com/amerand/PMOIRED_examples) [#4](https://htmlpreview.github.io/?https://github.com/amerand/PMOIRED_examples/blob/main/html/EX4%20Be%20model%20comparison%20with%20AMHRA.html). This model is a re-implementation of the model described in [Delaa et al. (2011)](https://ui.adsabs.harvard.edu/abs/2011A%26A...529A..87D/abstract) and [Meilland et al. (2012)](https://ui.adsabs.harvard.edu/abs/2012A%26A...538A.110M/abstract), originaly developped to interpret VEGA and AMBER observations of Be stars."
   ]
  },
  {
   "cell_type": "code",
   "execution_count": null,
   "id": "063e8737-d068-4ae2-9144-2677fc8e2b55",
   "metadata": {},
   "outputs": [],
   "source": [
    "# -- continuum model from above\n",
    "m = {'disk,F0':         0.0203, # +/- 0.0022\n",
    "    'disk,PRO':        0.311, # +/- 0.070\n",
    "    'disk,SPX':        3.07, # +/- 0.40\n",
    "    'disk,az amp1':    0.36, # +/- 0.15\n",
    "    'disk,az projang1':463.7, # +/- 23.4\n",
    "    'disk,diamout':    40.21, # +/- 0.93\n",
    "    'rim,F0':          0.2693, # +/- 0.0085\n",
    "    'rim,SPX':         1.06, # +/- 0.17\n",
    "    'rim,az amp1':     0.341, # +/- 0.030\n",
    "    'rim,az amp2':     0.241, # +/- 0.061\n",
    "    'rim,az projang1': -269.95, # +/- 1.88\n",
    "    'rim,az projang2': -246.50, # +/- 5.29\n",
    "    'rim,diamin':      0.00, # +/- 0.98\n",
    "    'rim,diamout':     7.53, # +/- 0.14\n",
    "    'rim,incl':        66.90, # +/- 0.94\n",
    "    'rim,projang':     17.38, # +/- 0.71\n",
    "    'disk,diamin':     '$rim,diamout',\n",
    "    'disk,incl':       '$rim,incl',\n",
    "    'disk,profile':    '$R**$disk,PRO',\n",
    "    'disk,projang':    '$rim,projang',\n",
    "    'disk,spectrum':   '$disk,F0*($WL/1.6)**$disk,SPX',\n",
    "    'rim,profile':     'doughnut',\n",
    "    'rim,spectrum':    '$rim,F0*($WL/1.6)**$rim,SPX',\n",
    "    'star,spectrum':   '(1-$rim,F0-$disk,F0)*($WL/1.6)**-3.8',\n",
    "    'star,ud':         0,\n",
    "    }\n",
    "\n",
    "m.update(\n",
    "     {'kep,incl': m['rim,incl'], # only initialised to rim value, free fitted afterwards\n",
    "     'kep,projang': m['rim,projang'], # only initialised to rim value, free fitted afterwards\n",
    "     'kep,diamin': 1., # in mas \n",
    "     'kep,diamout': '0.5*($rim,diamout+$rim,diamin)', # in mas -> force emission to be in the cavity \n",
    "     'kep,Vin': 200, # velocity in km/s at diamin, sign defines the rotation direction\n",
    "     'kep,line_0_rpow': -2, # power law for the radial intensity profile (in the line)\n",
    "     'kep,line_0_EW': 1, # in nm, (assuming continnum flux is 1)\n",
    "     'kep,beta': -0.5, # velocity power law: Keplerian is -0.5\n",
    "     'kep,line_0_wl0': '2.16+$kep,DWL0/1000',\n",
    "     'kep,DWL0':6.0,\n",
    "     'kep,x':0.01, # better to initalise any value !=0\n",
    "     'kep,y':0.01, # better to initalise any value !=0\n",
    "     })\n",
    "\n",
    "oi.setupFit({'obs':['N|V|', # normalised visibility\n",
    "                    #'T3PHI', # very noisy and redundant with DPHI\n",
    "                    'DPHI', \n",
    "                    'NFLUX'\n",
    "                   ],\n",
    "             'min relative error':{'NFLUX':0.02, 'N|V|':0.01},\n",
    "             'min error':{'DPHI':1, 'T3PHI':2},\n",
    "             'wl ranges':[(2.1661-0.005, 2.1661+0.005)],\n",
    "            })\n",
    "\n",
    "fitOnly = list(filter(lambda x: x.startswith('kep,')  and not 'beta' in x, m.keys()))\n",
    "\n",
    "onlyShow=True\n",
    "if onlyShow:\n",
    "    oi.show(m, imFov=7, imMax='99', imPow=0.5, imWl0=[2.16, 2.16557, 2.166, 2.1669], imPlx=3.2831)\n",
    "else:\n",
    "    oi.doFit(m, fitOnly=fitOnly)\n",
    "    oi.show(imFov=8, imMax='99', imPow=0.5, imWl0=[2.16, 2.16557, 2.166, 2.1669], imPlx=3.2831)\n",
    "\n",
    "plt.figure(oi.fig-2).set_figheight(12)"
   ]
  },
  {
   "cell_type": "code",
   "execution_count": null,
   "id": "339945a7-5742-4226-a127-5ee54dbd47d8",
   "metadata": {},
   "outputs": [],
   "source": [
    "# -- stellar mass based on Keplerian disk velocity\n",
    "plx = 3.2831 # in mas\n",
    "a_au = (oi.bestfit['best']['kep,diamin']/2)/plx\n",
    "P_yr = 2*np.pi*a_au*150e6/np.abs(oi.bestfit['best']['kep,Vin'])/3600/24/365.25\n",
    "M_msun = a_au**3/P_yr**2\n",
    "print(\"approx star's mass: %.1fMsun\"%M_msun)"
   ]
  }
 ],
 "metadata": {
  "kernelspec": {
   "display_name": "Python 3 (ipykernel)",
   "language": "python",
   "name": "python3"
  },
  "language_info": {
   "codemirror_mode": {
    "name": "ipython",
    "version": 3
   },
   "file_extension": ".py",
   "mimetype": "text/x-python",
   "name": "python",
   "nbconvert_exporter": "python",
   "pygments_lexer": "ipython3",
   "version": "3.12.2"
  },
  "widgets": {
   "application/vnd.jupyter.widget-state+json": {
    "state": {},
    "version_major": 2,
    "version_minor": 0
   }
  }
 },
 "nbformat": 4,
 "nbformat_minor": 5
}
